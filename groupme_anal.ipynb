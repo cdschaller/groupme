{
 "cells": [
  {
   "cell_type": "code",
   "execution_count": 38,
   "metadata": {
    "collapsed": false
   },
   "outputs": [],
   "source": [
    "import pandas\n",
    "import numpy\n",
    "import datetime\n",
    "import matplotlib\n",
    "import os\n",
    "%matplotlib inline\n",
    "\n",
    "os.chdir('/Users/cds/Desktop/groupme-tools-master')\n",
    "os.system('python groupme-fetch.py 8322711 ec997910f1430132b91122335db17b7f newest $(python newest-id.py transcript-8322711.json)')\n",
    "data = pandas.read_json('/Users/cds/Desktop/groupme-tools-master/transcript-8322711.json')"
   ]
  },
  {
   "cell_type": "code",
   "execution_count": 39,
   "metadata": {
    "collapsed": false
   },
   "outputs": [],
   "source": [
    "## adding fields, indicators, etc\n",
    "data = data.replace([None], [\"\"])\n",
    "from datetime import timedelta\n",
    "data['nfavs'] = data.favorited_by.map(len)\n",
    "data['created_at'] = pandas.to_datetime(data['created_at'])\n",
    "data['timestamp'] = data.created_at - timedelta(hours=4)\n",
    "data['weekday'] = data['timestamp'].dt.dayofweek\n",
    "data['date'] = data['timestamp'].dt.date.astype(str)\n",
    "data['hour'] = data['timestamp'].dt.hour\n",
    "data['minute'] = data['timestamp'].dt.minute\n",
    "data['year'] = data['timestamp'].dt.year\n",
    "data['month'] = data['timestamp'].dt.month\n",
    "data['day'] = data['timestamp'].dt.day\n",
    "data['week'] = data.timestamp.dt.week\n",
    "data['weekend'] = data['weekday'] > 4\n",
    "data['picture_url'] = data.picture_url.astype(str)\n",
    "data['gif'] = map(lambda x: 'gif' in x, data.picture_url)\n",
    "data['yearmonth'] = data['timestamp'].map(lambda x: int('{year}{month}'.format(year=x.year,month=x.month)))\n",
    "data['nchar'] = data.text.str.len()\n",
    "data['one'] = 1\n",
    "#print data.dtypes"
   ]
  },
  {
   "cell_type": "code",
   "execution_count": 43,
   "metadata": {
    "collapsed": false
   },
   "outputs": [],
   "source": [
    "# create type column / clean text column\n",
    "\n",
    "data['type'] = 'message'\n",
    "data.loc[data.picture_url.str.contains('png|jpeg'),'type'] = 'picture'\n",
    "data.loc[data.picture_url.str.contains('gif'),'type'] = 'gif'\n",
    "data.loc[data.text.str.contains('youtube'),'type'] = 'youtube'\n",
    "data.loc[data.text.str.contains('twitter'),'type'] = 'twitter'\n",
    "data.loc[data.text.str.contains('giphy'),'type'] = 'gif'\n",
    "data.loc[data.text.str.contains('instagram'),'type'] = 'instagram'\n",
    "\n",
    "t = data.text[~data.text.isnull()]\n",
    "t = t[t.str.contains('http') & ~t.str.contains('giphy|twitter|youtube|groupme|instagram|youtu.be')]\n",
    "t\n",
    "#map(lambda x: find_between(x, '/|.', '.com'), t)\n",
    "\n",
    "#data.type.value_counts()\n",
    "\n",
    "import string\n",
    "import re\n",
    "\n",
    "#data.text.map(lambda x: re.sub('[%s]' % re.escape(string.punctuation), \"\", x.lower()))\n"
   ]
  },
  {
   "cell_type": "code",
   "execution_count": 7,
   "metadata": {
    "collapsed": false
   },
   "outputs": [],
   "source": [
    "# average messages/hour for each day of week\n",
    "\n",
    "from ggplot import *\n",
    "\n",
    "dta = data.groupby(['year', 'month', 'day', 'weekday', 'hour'], as_index = False)['timestamp'].count()\n",
    "dta = dta.groupby(['weekday', 'hour'], as_index = False)['timestamp'].mean()\n",
    "dta.columns = ['weekday', 'hour', 'messages']\n",
    "\n",
    "gsize = theme_matplotlib(rc={\"figure.figsize\": \"16, 12\"}, matplotlib_defaults=False)\n",
    "p = ggplot(aes(x='hour', y='messages', color = 'weekday'), data = dta) + geom_line() \\\n",
    "+ facet_wrap('weekday') + gsize + ylim(0, 50)\n",
    "#print p"
   ]
  },
  {
   "cell_type": "code",
   "execution_count": 20,
   "metadata": {
    "collapsed": false
   },
   "outputs": [],
   "source": [
    "## userid, name lookup\n",
    "names = data[data['user_id'] != 'system'].groupby('user_id', as_index = False)\n",
    "names = names.agg({'timestamp': [numpy.min, numpy.max], \\\n",
    "                   'nfavs': [numpy.sum], \\\n",
    "                   'one': [numpy.sum]})\n",
    "names.columns = ['user_id', 'first_day', 'timestamp', 'favs_in', 'cnt']\n",
    "names = pandas.merge(names, data, 'inner')\n",
    "names = names[['user_id', 'name', 'first_day', 'timestamp', 'favs_in', 'cnt']]\n",
    "names = names[names['name'] != 'Tim Steinmetz']\n",
    "names['user_id'] = names.user_id.astype(int)\n",
    "names['total_days'] = names.timestamp - names.first_day\n",
    "names['total_days'] = names.total_days.astype(int)/60/60/24/1000000000\n",
    "names['weekdays'] = names.total_days*5/7\n",
    "names['weekends'] = names.total_days*2/7\n",
    "#print names"
   ]
  },
  {
   "cell_type": "code",
   "execution_count": 22,
   "metadata": {
    "collapsed": false
   },
   "outputs": [],
   "source": [
    "from ggplot import *\n",
    "\n",
    "dta = data[data['user_id'] != 'system']\n",
    "dta = dta.groupby(['weekend', 'user_id', 'hour'], as_index = False)['timestamp'].count()\n",
    "dta.columns = ['weekend', 'user_id', 'hour', 'messages']\n",
    "dta = pandas.merge(dta, names, 'inner')\n",
    "dta['messages_per_day'] = dta.messages/(dta.weekend.astype(int)*dta.weekends + abs(dta.weekend.astype(int) - 1)*dta.weekdays)\n",
    "gsize = theme_matplotlib(rc={\"figure.figsize\": \"15, 10\"}, matplotlib_defaults=False)\n",
    "p = ggplot(aes(x='hour', y='messages_per_day', color = 'weekend'), data = dta) + geom_line() \\\n",
    "+ facet_wrap('name') + gsize + ylim(0, dta.messages_per_day.max())\n",
    "#print p\n",
    "#print dta"
   ]
  },
  {
   "cell_type": "code",
   "execution_count": 17,
   "metadata": {
    "collapsed": false
   },
   "outputs": [],
   "source": [
    "## average gif size by user\n",
    "\n",
    "def find_between( s, first, last ):\n",
    "    try:\n",
    "        start = s.index( first ) + len( first )\n",
    "        end = s.index( last, start )\n",
    "        s = s[start:end]\n",
    "        return s\n",
    "    except ValueError:\n",
    "        return 0\n",
    "\n",
    "size_x = map(lambda x: find_between(x, 'com/', 'x'), data.picture_url)\n",
    "size_y = map(lambda x: find_between(x, 'x', '.'), data.picture_url)\n",
    "size_x = map(int, size_x)\n",
    "size_y = map(int, size_y)\n",
    "data['image_size'] = map(lambda x,y: x*y, size_x, size_y)\n",
    "\n",
    "us = data[data['image_size']>0 & data['gif']].groupby('user_id', as_index = False)['image_size']\n",
    "us = us.agg({'image_size': [numpy.mean]})\n",
    "us.columns = ['user_id', 'avg_size']\n",
    "us['user_id'] = us.user_id.astype(int)\n",
    "us = pandas.merge(us, names, 'inner')\n",
    "us = us.sort('avg_size', ascending = 0)\n",
    "us = us[['user_id', 'avg_size', 'name']]\n",
    "#print us"
   ]
  },
  {
   "cell_type": "code",
   "execution_count": 109,
   "metadata": {
    "collapsed": false
   },
   "outputs": [],
   "source": [
    "## the 12+ like comments\n",
    "temp = data[(data['nfavs'] > 11)][['name', 'text']]\n",
    "#temp.to_csv"
   ]
  },
  {
   "cell_type": "code",
   "execution_count": 15,
   "metadata": {
    "collapsed": false
   },
   "outputs": [],
   "source": [
    "# average message size\n",
    "avgchars = data[data['user_id'] != 'system'].groupby('user_id', as_index = False)\n",
    "avgchars = avgchars.agg({'nchar': [numpy.min, numpy.max, numpy.mean, numpy.sum]})\n",
    "avgchars.columns = ['user_id', 'min', 'max', 'mean', 'sum']\n",
    "avgchars['user_id'] = avgchars.user_id.astype(int)\n",
    "avgchars = pandas.merge(names, avgchars, 'inner')\n",
    "avgchars = avgchars[['name', 'mean', 'max']]\n",
    "#avgchars.sort('mean', ascending = 0)"
   ]
  },
  {
   "cell_type": "code",
   "execution_count": 23,
   "metadata": {
    "collapsed": false
   },
   "outputs": [
    {
     "name": "stderr",
     "output_type": "stream",
     "text": [
      "/Library/Python/2.7/site-packages/IPython/kernel/__main__.py:10: SettingWithCopyWarning: \n",
      "A value is trying to be set on a copy of a slice from a DataFrame\n",
      "\n",
      "See the the caveats in the documentation: http://pandas.pydata.org/pandas-docs/stable/indexing.html#indexing-view-versus-copy\n"
     ]
    }
   ],
   "source": [
    "def count_likes( user, col ):\n",
    "    liked = data.favorited_by.astype(str).str.contains(user)\n",
    "    cnts = len(liked[liked])\n",
    "    return cnts\n",
    "\n",
    "names['favs_out'] = [0] * len(names.index)\n",
    "x = 1\n",
    "for i in names.user_id.astype(str):\n",
    "    likes = count_likes( i, data.favorited_by )\n",
    "    names.favs_out[x] = likes\n",
    "    x = x+1\n",
    "\n",
    "names['favs_in_pm'] = names.favs_in/names.cnt\n",
    "names['favs_out_pm'] = names.favs_out/names.cnt\n",
    "names['favs_in_favs_out'] = names.favs_in/names.favs_out"
   ]
  }
 ],
 "metadata": {
  "kernelspec": {
   "display_name": "Python 2",
   "language": "python",
   "name": "python2"
  },
  "language_info": {
   "codemirror_mode": {
    "name": "ipython",
    "version": 2
   },
   "file_extension": ".py",
   "mimetype": "text/x-python",
   "name": "python",
   "nbconvert_exporter": "python",
   "pygments_lexer": "ipython2",
   "version": "2.7.6"
  }
 },
 "nbformat": 4,
 "nbformat_minor": 0
}
